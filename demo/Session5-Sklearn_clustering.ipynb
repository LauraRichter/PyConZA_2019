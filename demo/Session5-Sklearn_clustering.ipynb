{
 "cells": [
  {
   "cell_type": "markdown",
   "metadata": {},
   "source": [
    "# Session 5"
   ]
  },
  {
   "cell_type": "code",
   "execution_count": 18,
   "metadata": {},
   "outputs": [],
   "source": [
    "from sklearn.cluster import KMeans\n",
    "import matplotlib.pyplot as plt\n",
    "import pandas as pd"
   ]
  },
  {
   "cell_type": "markdown",
   "metadata": {},
   "source": [
    "---\n",
    "## Clustering\n",
    "\n",
    "#### Worldbank data\n",
    "https://data.worldbank.org/"
   ]
  },
  {
   "cell_type": "code",
   "execution_count": 11,
   "metadata": {},
   "outputs": [],
   "source": [
    "df_urban = pd.read_csv('data/API_SP.URB.TOTL.IN.ZS_DS2_en_csv_v2_200798.csv', skiprows=4)\n",
    "df_age = pd.read_csv('data/API_SP.POP.DPND.YG_DS2_EN_csv_v2_224716.csv', skiprows=4)"
   ]
  },
  {
   "cell_type": "code",
   "execution_count": 12,
   "metadata": {},
   "outputs": [
    {
     "data": {
      "text/html": [
       "<div>\n",
       "<style scoped>\n",
       "    .dataframe tbody tr th:only-of-type {\n",
       "        vertical-align: middle;\n",
       "    }\n",
       "\n",
       "    .dataframe tbody tr th {\n",
       "        vertical-align: top;\n",
       "    }\n",
       "\n",
       "    .dataframe thead th {\n",
       "        text-align: right;\n",
       "    }\n",
       "</style>\n",
       "<table border=\"1\" class=\"dataframe\">\n",
       "  <thead>\n",
       "    <tr style=\"text-align: right;\">\n",
       "      <th></th>\n",
       "      <th>Country Name</th>\n",
       "      <th>Country Code</th>\n",
       "      <th>Indicator Name</th>\n",
       "      <th>Indicator Code</th>\n",
       "      <th>1960</th>\n",
       "      <th>1961</th>\n",
       "      <th>1962</th>\n",
       "      <th>1963</th>\n",
       "      <th>1964</th>\n",
       "      <th>1965</th>\n",
       "      <th>...</th>\n",
       "      <th>2010</th>\n",
       "      <th>2011</th>\n",
       "      <th>2012</th>\n",
       "      <th>2013</th>\n",
       "      <th>2014</th>\n",
       "      <th>2015</th>\n",
       "      <th>2016</th>\n",
       "      <th>2017</th>\n",
       "      <th>2018</th>\n",
       "      <th>Unnamed: 63</th>\n",
       "    </tr>\n",
       "  </thead>\n",
       "  <tbody>\n",
       "    <tr>\n",
       "      <td>0</td>\n",
       "      <td>Aruba</td>\n",
       "      <td>ABW</td>\n",
       "      <td>Age dependency ratio, young (% of working-age ...</td>\n",
       "      <td>SP.POP.DPND.YG</td>\n",
       "      <td>81.697886</td>\n",
       "      <td>80.208889</td>\n",
       "      <td>78.931877</td>\n",
       "      <td>77.661358</td>\n",
       "      <td>76.107011</td>\n",
       "      <td>74.221247</td>\n",
       "      <td>...</td>\n",
       "      <td>30.322774</td>\n",
       "      <td>29.804396</td>\n",
       "      <td>29.125267</td>\n",
       "      <td>28.351007</td>\n",
       "      <td>27.625641</td>\n",
       "      <td>27.043319</td>\n",
       "      <td>26.407470</td>\n",
       "      <td>26.078518</td>\n",
       "      <td>25.933470</td>\n",
       "      <td>NaN</td>\n",
       "    </tr>\n",
       "    <tr>\n",
       "      <td>1</td>\n",
       "      <td>Afghanistan</td>\n",
       "      <td>AFG</td>\n",
       "      <td>Age dependency ratio, young (% of working-age ...</td>\n",
       "      <td>SP.POP.DPND.YG</td>\n",
       "      <td>76.535066</td>\n",
       "      <td>77.558548</td>\n",
       "      <td>78.149745</td>\n",
       "      <td>78.488542</td>\n",
       "      <td>78.790092</td>\n",
       "      <td>79.142619</td>\n",
       "      <td>...</td>\n",
       "      <td>97.341930</td>\n",
       "      <td>95.510252</td>\n",
       "      <td>93.202852</td>\n",
       "      <td>90.611139</td>\n",
       "      <td>87.926203</td>\n",
       "      <td>85.245772</td>\n",
       "      <td>83.205805</td>\n",
       "      <td>81.249828</td>\n",
       "      <td>79.319383</td>\n",
       "      <td>NaN</td>\n",
       "    </tr>\n",
       "    <tr>\n",
       "      <td>2</td>\n",
       "      <td>Angola</td>\n",
       "      <td>AGO</td>\n",
       "      <td>Age dependency ratio, young (% of working-age ...</td>\n",
       "      <td>SP.POP.DPND.YG</td>\n",
       "      <td>76.797867</td>\n",
       "      <td>79.002047</td>\n",
       "      <td>81.394888</td>\n",
       "      <td>83.443377</td>\n",
       "      <td>84.591596</td>\n",
       "      <td>84.738019</td>\n",
       "      <td>...</td>\n",
       "      <td>92.971970</td>\n",
       "      <td>93.340663</td>\n",
       "      <td>93.516764</td>\n",
       "      <td>93.528338</td>\n",
       "      <td>93.383510</td>\n",
       "      <td>93.072836</td>\n",
       "      <td>92.833720</td>\n",
       "      <td>92.413034</td>\n",
       "      <td>91.827756</td>\n",
       "      <td>NaN</td>\n",
       "    </tr>\n",
       "    <tr>\n",
       "      <td>3</td>\n",
       "      <td>Albania</td>\n",
       "      <td>ALB</td>\n",
       "      <td>Age dependency ratio, young (% of working-age ...</td>\n",
       "      <td>SP.POP.DPND.YG</td>\n",
       "      <td>73.770305</td>\n",
       "      <td>74.983787</td>\n",
       "      <td>76.174266</td>\n",
       "      <td>77.247385</td>\n",
       "      <td>78.014140</td>\n",
       "      <td>78.351472</td>\n",
       "      <td>...</td>\n",
       "      <td>33.565374</td>\n",
       "      <td>31.802866</td>\n",
       "      <td>30.289696</td>\n",
       "      <td>29.041102</td>\n",
       "      <td>28.018308</td>\n",
       "      <td>27.172429</td>\n",
       "      <td>26.774948</td>\n",
       "      <td>26.264034</td>\n",
       "      <td>25.768823</td>\n",
       "      <td>NaN</td>\n",
       "    </tr>\n",
       "    <tr>\n",
       "      <td>4</td>\n",
       "      <td>Andorra</td>\n",
       "      <td>AND</td>\n",
       "      <td>Age dependency ratio, young (% of working-age ...</td>\n",
       "      <td>SP.POP.DPND.YG</td>\n",
       "      <td>NaN</td>\n",
       "      <td>NaN</td>\n",
       "      <td>NaN</td>\n",
       "      <td>NaN</td>\n",
       "      <td>NaN</td>\n",
       "      <td>NaN</td>\n",
       "      <td>...</td>\n",
       "      <td>NaN</td>\n",
       "      <td>NaN</td>\n",
       "      <td>NaN</td>\n",
       "      <td>NaN</td>\n",
       "      <td>NaN</td>\n",
       "      <td>NaN</td>\n",
       "      <td>NaN</td>\n",
       "      <td>NaN</td>\n",
       "      <td>NaN</td>\n",
       "      <td>NaN</td>\n",
       "    </tr>\n",
       "  </tbody>\n",
       "</table>\n",
       "<p>5 rows × 64 columns</p>\n",
       "</div>"
      ],
      "text/plain": [
       "  Country Name Country Code  \\\n",
       "0        Aruba          ABW   \n",
       "1  Afghanistan          AFG   \n",
       "2       Angola          AGO   \n",
       "3      Albania          ALB   \n",
       "4      Andorra          AND   \n",
       "\n",
       "                                      Indicator Name  Indicator Code  \\\n",
       "0  Age dependency ratio, young (% of working-age ...  SP.POP.DPND.YG   \n",
       "1  Age dependency ratio, young (% of working-age ...  SP.POP.DPND.YG   \n",
       "2  Age dependency ratio, young (% of working-age ...  SP.POP.DPND.YG   \n",
       "3  Age dependency ratio, young (% of working-age ...  SP.POP.DPND.YG   \n",
       "4  Age dependency ratio, young (% of working-age ...  SP.POP.DPND.YG   \n",
       "\n",
       "        1960       1961       1962       1963       1964       1965  ...  \\\n",
       "0  81.697886  80.208889  78.931877  77.661358  76.107011  74.221247  ...   \n",
       "1  76.535066  77.558548  78.149745  78.488542  78.790092  79.142619  ...   \n",
       "2  76.797867  79.002047  81.394888  83.443377  84.591596  84.738019  ...   \n",
       "3  73.770305  74.983787  76.174266  77.247385  78.014140  78.351472  ...   \n",
       "4        NaN        NaN        NaN        NaN        NaN        NaN  ...   \n",
       "\n",
       "        2010       2011       2012       2013       2014       2015  \\\n",
       "0  30.322774  29.804396  29.125267  28.351007  27.625641  27.043319   \n",
       "1  97.341930  95.510252  93.202852  90.611139  87.926203  85.245772   \n",
       "2  92.971970  93.340663  93.516764  93.528338  93.383510  93.072836   \n",
       "3  33.565374  31.802866  30.289696  29.041102  28.018308  27.172429   \n",
       "4        NaN        NaN        NaN        NaN        NaN        NaN   \n",
       "\n",
       "        2016       2017       2018  Unnamed: 63  \n",
       "0  26.407470  26.078518  25.933470          NaN  \n",
       "1  83.205805  81.249828  79.319383          NaN  \n",
       "2  92.833720  92.413034  91.827756          NaN  \n",
       "3  26.774948  26.264034  25.768823          NaN  \n",
       "4        NaN        NaN        NaN          NaN  \n",
       "\n",
       "[5 rows x 64 columns]"
      ]
     },
     "execution_count": 12,
     "metadata": {},
     "output_type": "execute_result"
    }
   ],
   "source": [
    "df_age.head()"
   ]
  },
  {
   "cell_type": "markdown",
   "metadata": {},
   "source": [
    "Select just year 1980:"
   ]
  },
  {
   "cell_type": "code",
   "execution_count": 13,
   "metadata": {},
   "outputs": [],
   "source": [
    "year = '1980'"
   ]
  },
  {
   "cell_type": "code",
   "execution_count": 5,
   "metadata": {},
   "outputs": [],
   "source": [
    "df_u = df_urban[['Country Name', year]]"
   ]
  },
  {
   "cell_type": "code",
   "execution_count": 6,
   "metadata": {},
   "outputs": [],
   "source": [
    "df_a = df_age[['Country Name', year]]"
   ]
  },
  {
   "cell_type": "code",
   "execution_count": 7,
   "metadata": {},
   "outputs": [
    {
     "data": {
      "text/html": [
       "<div>\n",
       "<style scoped>\n",
       "    .dataframe tbody tr th:only-of-type {\n",
       "        vertical-align: middle;\n",
       "    }\n",
       "\n",
       "    .dataframe tbody tr th {\n",
       "        vertical-align: top;\n",
       "    }\n",
       "\n",
       "    .dataframe thead th {\n",
       "        text-align: right;\n",
       "    }\n",
       "</style>\n",
       "<table border=\"1\" class=\"dataframe\">\n",
       "  <thead>\n",
       "    <tr style=\"text-align: right;\">\n",
       "      <th></th>\n",
       "      <th>Country Name</th>\n",
       "      <th>1980</th>\n",
       "    </tr>\n",
       "  </thead>\n",
       "  <tbody>\n",
       "    <tr>\n",
       "      <td>0</td>\n",
       "      <td>Aruba</td>\n",
       "      <td>39.790236</td>\n",
       "    </tr>\n",
       "    <tr>\n",
       "      <td>1</td>\n",
       "      <td>Afghanistan</td>\n",
       "      <td>89.869218</td>\n",
       "    </tr>\n",
       "    <tr>\n",
       "      <td>2</td>\n",
       "      <td>Angola</td>\n",
       "      <td>89.833098</td>\n",
       "    </tr>\n",
       "    <tr>\n",
       "      <td>3</td>\n",
       "      <td>Albania</td>\n",
       "      <td>61.276472</td>\n",
       "    </tr>\n",
       "    <tr>\n",
       "      <td>4</td>\n",
       "      <td>Andorra</td>\n",
       "      <td>NaN</td>\n",
       "    </tr>\n",
       "    <tr>\n",
       "      <td>...</td>\n",
       "      <td>...</td>\n",
       "      <td>...</td>\n",
       "    </tr>\n",
       "    <tr>\n",
       "      <td>259</td>\n",
       "      <td>Kosovo</td>\n",
       "      <td>NaN</td>\n",
       "    </tr>\n",
       "    <tr>\n",
       "      <td>260</td>\n",
       "      <td>Yemen, Rep.</td>\n",
       "      <td>104.626458</td>\n",
       "    </tr>\n",
       "    <tr>\n",
       "      <td>261</td>\n",
       "      <td>South Africa</td>\n",
       "      <td>73.919303</td>\n",
       "    </tr>\n",
       "    <tr>\n",
       "      <td>262</td>\n",
       "      <td>Zambia</td>\n",
       "      <td>99.160008</td>\n",
       "    </tr>\n",
       "    <tr>\n",
       "      <td>263</td>\n",
       "      <td>Zimbabwe</td>\n",
       "      <td>104.358949</td>\n",
       "    </tr>\n",
       "  </tbody>\n",
       "</table>\n",
       "<p>264 rows × 2 columns</p>\n",
       "</div>"
      ],
      "text/plain": [
       "     Country Name        1980\n",
       "0           Aruba   39.790236\n",
       "1     Afghanistan   89.869218\n",
       "2          Angola   89.833098\n",
       "3         Albania   61.276472\n",
       "4         Andorra         NaN\n",
       "..            ...         ...\n",
       "259        Kosovo         NaN\n",
       "260   Yemen, Rep.  104.626458\n",
       "261  South Africa   73.919303\n",
       "262        Zambia   99.160008\n",
       "263      Zimbabwe  104.358949\n",
       "\n",
       "[264 rows x 2 columns]"
      ]
     },
     "execution_count": 7,
     "metadata": {},
     "output_type": "execute_result"
    }
   ],
   "source": [
    "df_a"
   ]
  },
  {
   "cell_type": "code",
   "execution_count": 8,
   "metadata": {},
   "outputs": [],
   "source": [
    "df = df_u.merge(df_a, on='Country Name', suffixes=['_u', '_a'])"
   ]
  },
  {
   "cell_type": "code",
   "execution_count": 9,
   "metadata": {},
   "outputs": [
    {
     "data": {
      "text/html": [
       "<div>\n",
       "<style scoped>\n",
       "    .dataframe tbody tr th:only-of-type {\n",
       "        vertical-align: middle;\n",
       "    }\n",
       "\n",
       "    .dataframe tbody tr th {\n",
       "        vertical-align: top;\n",
       "    }\n",
       "\n",
       "    .dataframe thead th {\n",
       "        text-align: right;\n",
       "    }\n",
       "</style>\n",
       "<table border=\"1\" class=\"dataframe\">\n",
       "  <thead>\n",
       "    <tr style=\"text-align: right;\">\n",
       "      <th></th>\n",
       "      <th>Country Name</th>\n",
       "      <th>1980_u</th>\n",
       "      <th>1980_a</th>\n",
       "    </tr>\n",
       "  </thead>\n",
       "  <tbody>\n",
       "    <tr>\n",
       "      <td>0</td>\n",
       "      <td>Aruba</td>\n",
       "      <td>50.472</td>\n",
       "      <td>39.790236</td>\n",
       "    </tr>\n",
       "    <tr>\n",
       "      <td>1</td>\n",
       "      <td>Afghanistan</td>\n",
       "      <td>15.995</td>\n",
       "      <td>89.869218</td>\n",
       "    </tr>\n",
       "    <tr>\n",
       "      <td>2</td>\n",
       "      <td>Angola</td>\n",
       "      <td>24.298</td>\n",
       "      <td>89.833098</td>\n",
       "    </tr>\n",
       "    <tr>\n",
       "      <td>3</td>\n",
       "      <td>Albania</td>\n",
       "      <td>33.762</td>\n",
       "      <td>61.276472</td>\n",
       "    </tr>\n",
       "    <tr>\n",
       "      <td>4</td>\n",
       "      <td>Andorra</td>\n",
       "      <td>92.064</td>\n",
       "      <td>NaN</td>\n",
       "    </tr>\n",
       "    <tr>\n",
       "      <td>...</td>\n",
       "      <td>...</td>\n",
       "      <td>...</td>\n",
       "      <td>...</td>\n",
       "    </tr>\n",
       "    <tr>\n",
       "      <td>259</td>\n",
       "      <td>Kosovo</td>\n",
       "      <td>NaN</td>\n",
       "      <td>NaN</td>\n",
       "    </tr>\n",
       "    <tr>\n",
       "      <td>260</td>\n",
       "      <td>Yemen, Rep.</td>\n",
       "      <td>16.534</td>\n",
       "      <td>104.626458</td>\n",
       "    </tr>\n",
       "    <tr>\n",
       "      <td>261</td>\n",
       "      <td>South Africa</td>\n",
       "      <td>48.425</td>\n",
       "      <td>73.919303</td>\n",
       "    </tr>\n",
       "    <tr>\n",
       "      <td>262</td>\n",
       "      <td>Zambia</td>\n",
       "      <td>39.815</td>\n",
       "      <td>99.160008</td>\n",
       "    </tr>\n",
       "    <tr>\n",
       "      <td>263</td>\n",
       "      <td>Zimbabwe</td>\n",
       "      <td>22.371</td>\n",
       "      <td>104.358949</td>\n",
       "    </tr>\n",
       "  </tbody>\n",
       "</table>\n",
       "<p>264 rows × 3 columns</p>\n",
       "</div>"
      ],
      "text/plain": [
       "     Country Name  1980_u      1980_a\n",
       "0           Aruba  50.472   39.790236\n",
       "1     Afghanistan  15.995   89.869218\n",
       "2          Angola  24.298   89.833098\n",
       "3         Albania  33.762   61.276472\n",
       "4         Andorra  92.064         NaN\n",
       "..            ...     ...         ...\n",
       "259        Kosovo     NaN         NaN\n",
       "260   Yemen, Rep.  16.534  104.626458\n",
       "261  South Africa  48.425   73.919303\n",
       "262        Zambia  39.815   99.160008\n",
       "263      Zimbabwe  22.371  104.358949\n",
       "\n",
       "[264 rows x 3 columns]"
      ]
     },
     "execution_count": 9,
     "metadata": {},
     "output_type": "execute_result"
    }
   ],
   "source": [
    "df"
   ]
  },
  {
   "cell_type": "code",
   "execution_count": 16,
   "metadata": {},
   "outputs": [
    {
     "data": {
      "image/png": "[encoded data removed]",
      "text/plain": [
       "<Figure size 432x432 with 1 Axes>"
      ]
     },
     "metadata": {
      "needs_background": "light"
     },
     "output_type": "display_data"
    }
   ],
   "source": [
    "fig, ax = plt.subplots(1, 1, figsize=(6,6))\n",
    "ax.plot(df['1980_u'], df['1980_a'], '.')\n",
    "ax.set_ylabel('Age dependency ratio')\n",
    "ax.set_xlabel('Urban population percentage');"
   ]
  },
  {
   "cell_type": "markdown",
   "metadata": {},
   "source": [
    "---\n",
    "#### Perform clustering (with 2 clusters)"
   ]
  },
  {
   "cell_type": "code",
   "execution_count": 19,
   "metadata": {},
   "outputs": [],
   "source": [
    "kmeans = KMeans(n_clusters=2)"
   ]
  },
  {
   "cell_type": "code",
   "execution_count": 26,
   "metadata": {},
   "outputs": [],
   "source": [
    "X = df[['1980_u', '1980_a']].dropna()"
   ]
  },
  {
   "cell_type": "code",
   "execution_count": 27,
   "metadata": {},
   "outputs": [
    {
     "data": {
      "text/html": [
       "<div>\n",
       "<style scoped>\n",
       "    .dataframe tbody tr th:only-of-type {\n",
       "        vertical-align: middle;\n",
       "    }\n",
       "\n",
       "    .dataframe tbody tr th {\n",
       "        vertical-align: top;\n",
       "    }\n",
       "\n",
       "    .dataframe thead th {\n",
       "        text-align: right;\n",
       "    }\n",
       "</style>\n",
       "<table border=\"1\" class=\"dataframe\">\n",
       "  <thead>\n",
       "    <tr style=\"text-align: right;\">\n",
       "      <th></th>\n",
       "      <th>1980_u</th>\n",
       "      <th>1980_a</th>\n",
       "    </tr>\n",
       "  </thead>\n",
       "  <tbody>\n",
       "    <tr>\n",
       "      <td>0</td>\n",
       "      <td>50.472000</td>\n",
       "      <td>39.790236</td>\n",
       "    </tr>\n",
       "    <tr>\n",
       "      <td>1</td>\n",
       "      <td>15.995000</td>\n",
       "      <td>89.869218</td>\n",
       "    </tr>\n",
       "    <tr>\n",
       "      <td>2</td>\n",
       "      <td>24.298000</td>\n",
       "      <td>89.833098</td>\n",
       "    </tr>\n",
       "    <tr>\n",
       "      <td>3</td>\n",
       "      <td>33.762000</td>\n",
       "      <td>61.276472</td>\n",
       "    </tr>\n",
       "    <tr>\n",
       "      <td>5</td>\n",
       "      <td>44.846576</td>\n",
       "      <td>84.704212</td>\n",
       "    </tr>\n",
       "    <tr>\n",
       "      <td>...</td>\n",
       "      <td>...</td>\n",
       "      <td>...</td>\n",
       "    </tr>\n",
       "    <tr>\n",
       "      <td>258</td>\n",
       "      <td>21.173000</td>\n",
       "      <td>90.635085</td>\n",
       "    </tr>\n",
       "    <tr>\n",
       "      <td>260</td>\n",
       "      <td>16.534000</td>\n",
       "      <td>104.626458</td>\n",
       "    </tr>\n",
       "    <tr>\n",
       "      <td>261</td>\n",
       "      <td>48.425000</td>\n",
       "      <td>73.919303</td>\n",
       "    </tr>\n",
       "    <tr>\n",
       "      <td>262</td>\n",
       "      <td>39.815000</td>\n",
       "      <td>99.160008</td>\n",
       "    </tr>\n",
       "    <tr>\n",
       "      <td>263</td>\n",
       "      <td>22.371000</td>\n",
       "      <td>104.358949</td>\n",
       "    </tr>\n",
       "  </tbody>\n",
       "</table>\n",
       "<p>238 rows × 2 columns</p>\n",
       "</div>"
      ],
      "text/plain": [
       "        1980_u      1980_a\n",
       "0    50.472000   39.790236\n",
       "1    15.995000   89.869218\n",
       "2    24.298000   89.833098\n",
       "3    33.762000   61.276472\n",
       "5    44.846576   84.704212\n",
       "..         ...         ...\n",
       "258  21.173000   90.635085\n",
       "260  16.534000  104.626458\n",
       "261  48.425000   73.919303\n",
       "262  39.815000   99.160008\n",
       "263  22.371000  104.358949\n",
       "\n",
       "[238 rows x 2 columns]"
      ]
     },
     "execution_count": 27,
     "metadata": {},
     "output_type": "execute_result"
    }
   ],
   "source": [
    "X"
   ]
  },
  {
   "cell_type": "code",
   "execution_count": 28,
   "metadata": {},
   "outputs": [
    {
     "data": {
      "text/plain": [
       "KMeans(algorithm='auto', copy_x=True, init='k-means++', max_iter=300,\n",
       "       n_clusters=2, n_init=10, n_jobs=None, precompute_distances='auto',\n",
       "       random_state=None, tol=0.0001, verbose=0)"
      ]
     },
     "execution_count": 28,
     "metadata": {},
     "output_type": "execute_result"
    }
   ],
   "source": [
    "kmeans.fit(X)"
   ]
  },
  {
   "cell_type": "code",
   "execution_count": 29,
   "metadata": {},
   "outputs": [
    {
     "data": {
      "text/plain": [
       "array([0, 1, 1, 1, 1, 0, 0, 0, 1, 0, 0, 0, 1, 0, 1, 1, 1, 0, 0, 0, 0, 0,\n",
       "       1, 1, 0, 0, 0, 1, 1, 1, 0, 0, 0, 0, 0, 1, 1, 1, 1, 1, 0, 1, 1, 1,\n",
       "       1, 0, 0, 0, 0, 0, 1, 0, 1, 1, 1, 1, 1, 0, 0, 1, 1, 0, 1, 0, 0, 1,\n",
       "       0, 1, 0, 1, 0, 1, 1, 0, 0, 1, 1, 1, 1, 1, 0, 1, 1, 0, 1, 0, 0, 1,\n",
       "       1, 0, 1, 0, 1, 1, 1, 1, 1, 1, 1, 0, 1, 1, 0, 0, 0, 1, 1, 0, 0, 1,\n",
       "       1, 1, 1, 0, 0, 0, 1, 0, 1, 1, 1, 0, 1, 1, 1, 1, 1, 1, 1, 0, 0, 0,\n",
       "       0, 1, 0, 1, 1, 1, 1, 1, 0, 1, 0, 1, 1, 0, 1, 1, 1, 1, 1, 1, 0, 1,\n",
       "       0, 1, 1, 1, 0, 0, 1, 0, 0, 1, 1, 1, 1, 0, 1, 1, 0, 1, 0, 0, 0, 1,\n",
       "       1, 0, 0, 0, 0, 0, 1, 1, 1, 1, 1, 0, 1, 1, 1, 1, 1, 1, 1, 1, 1, 0,\n",
       "       0, 0, 0, 1, 1, 1, 1, 1, 0, 1, 1, 1, 1, 0, 1, 1, 1, 1, 1, 0, 1, 1,\n",
       "       1, 1, 0, 1, 0, 0, 1, 1, 0, 0, 1, 1, 1, 1, 1, 1, 1, 1], dtype=int32)"
      ]
     },
     "execution_count": 29,
     "metadata": {},
     "output_type": "execute_result"
    }
   ],
   "source": [
    "kmeans.labels_"
   ]
  },
  {
   "cell_type": "code",
   "execution_count": 30,
   "metadata": {},
   "outputs": [
    {
     "name": "stdout",
     "output_type": "stream",
     "text": [
      "[[68.10607505 44.73335979]\n",
      " [30.52748687 81.75938478]]\n"
     ]
    },
    {
     "data": {
      "image/png": "[encoded data removed]",
      "text/plain": [
       "<Figure size 432x432 with 1 Axes>"
      ]
     },
     "metadata": {
      "needs_background": "light"
     },
     "output_type": "display_data"
    }
   ],
   "source": [
    "cc = kmeans.cluster_centers_\n",
    "print(cc)\n",
    "\n",
    "fig, ax = plt.subplots(1, 1, figsize=(6,6))\n",
    "\n",
    "for cluster in [0,1]:\n",
    "    X_cluster = X[kmeans.labels_ == cluster]\n",
    "    ax.plot(X_cluster['1980_u'], X_cluster['1980_a'], '.')\n",
    "    ax.plot(cc[cluster][0], cc[cluster][1], '*', color='r', markersize=20)\n",
    "ax.set_ylabel('Age dependency ratio')\n",
    "ax.set_xlabel('Urban population percentage');"
   ]
  }
 ],
 "metadata": {
  "kernelspec": {
   "display_name": "Python 3",
   "language": "python",
   "name": "python3"
  },
  "language_info": {
   "codemirror_mode": {
    "name": "ipython",
    "version": 3
   },
   "file_extension": ".py",
   "mimetype": "text/x-python",
   "name": "python",
   "nbconvert_exporter": "python",
   "pygments_lexer": "ipython3",
   "version": "3.6.8"
  }
 },
 "nbformat": 4,
 "nbformat_minor": 4
}
